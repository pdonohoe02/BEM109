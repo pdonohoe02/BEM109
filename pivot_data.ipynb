{
 "cells": [
  {
   "cell_type": "code",
   "execution_count": 6,
   "metadata": {},
   "outputs": [],
   "source": [
    "import pandas as pd\n",
    "file_path = 'data/relevant_data.csv'\n",
    "output_file_path = 'data/reshaped_data.csv'\n",
    "data = pd.read_csv(file_path)\n",
    "\n",
    "data_melted = data.drop(columns=[\"Unnamed: 0\", \"Country Name\", \"Country Code\", \"Unnamed: 67\"])\n",
    "data_melted = data_melted.melt(id_vars=[\"Indicator Name\", \"Indicator Code\"], var_name=\"year\", value_name=\"value\")\n",
    "\n",
    "data_pivoted = data_melted.pivot(index=\"year\", columns=\"Indicator Name\", values=\"value\").reset_index()\n",
    "\n",
    "data_pivoted.to_csv(output_file_path, index=False)\n"
   ]
  }
 ],
 "metadata": {
  "kernelspec": {
   "display_name": "Python 3",
   "language": "python",
   "name": "python3"
  },
  "language_info": {
   "codemirror_mode": {
    "name": "ipython",
    "version": 3
   },
   "file_extension": ".py",
   "mimetype": "text/x-python",
   "name": "python",
   "nbconvert_exporter": "python",
   "pygments_lexer": "ipython3",
   "version": "3.10.5"
  },
  "orig_nbformat": 4
 },
 "nbformat": 4,
 "nbformat_minor": 2
}
